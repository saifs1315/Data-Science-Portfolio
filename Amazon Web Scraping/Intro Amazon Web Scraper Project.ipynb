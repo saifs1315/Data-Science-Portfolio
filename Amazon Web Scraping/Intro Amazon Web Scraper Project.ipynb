{
 "cells": [
  {
   "cell_type": "code",
   "execution_count": 1,
   "id": "46840509",
   "metadata": {},
   "outputs": [],
   "source": [
    "# import libraries\n",
    "from bs4 import BeautifulSoup\n",
    "import requests\n",
    "import time\n",
    "import datetime\n",
    "\n",
    "import smtplib\n",
    "import re"
   ]
  },
  {
   "cell_type": "code",
   "execution_count": 2,
   "id": "940aa2aa",
   "metadata": {},
   "outputs": [
    {
     "name": "stdout",
     "output_type": "stream",
     "text": [
      "INTRODUCTION TO MACHINE LEARNING WITH PYTHON A GUIDE FOR DATA SCIENTISTS\n",
      "₹1,300.00\n"
     ]
    }
   ],
   "source": [
    "# connect to Website\n",
    "\n",
    "URL = 'https://www.amazon.in/Introduction-Machine-Learning-Python-Scientists/dp/9352134575/ref=d_pd_sbs_sccl_1_6/260-1712950-1975220?pd_rd_w=I7dGk&content-id=amzn1.sym.bb6c0cc5-8184-43f1-ae65-b1c04d20cdc0&pf_rd_p=bb6c0cc5-8184-43f1-ae65-b1c04d20cdc0&pf_rd_r=160GA2HRKCF9BNKYGJYG&pd_rd_wg=miNbE&pd_rd_r=5c35c531-dcdc-4c51-aa0a-7d7a9be7b9b8&pd_rd_i=9352134575&psc=1'\n",
    "\n",
    "headers = {\"User-Agent\": \"Mozilla/5.0 (Windows NT 10.0; Win64; x64) AppleWebKit/537.36 (KHTML, like Gecko) Chrome/109.0.0.0 Safari/537.36\", \"Accept-Encoding\":\"gzip, deflate\", \"Accept\":\"text/html,application/xhtml+xml,application/xml;q=0.9,*/*;q=0.8\", \"DNT\":\"1\",\"Connection\":\"close\", \"Upgrade-Insecure-Requests\":\"1\"}\n",
    "\n",
    "page = requests.get(URL,headers=headers)\n",
    "\n",
    "soup1 = BeautifulSoup(page.content,'html.parser')\n",
    "\n",
    "soup2 = BeautifulSoup(soup1.prettify(),'html.parser')\n",
    "\n",
    "title =  soup2.find(id='productTitle').get_text()\n",
    "\n",
    "price = soup2.find(id='price').get_text()\n",
    "\n",
    "print(title.strip())\n",
    "print(price.strip())\n",
    "title = title.strip()\n",
    "price = price.strip()[1:]\n",
    "today = datetime.date.today()\n",
    "time = datetime.datetime.now().strftime(\"%H:%M:%S\")"
   ]
  },
  {
   "cell_type": "code",
   "execution_count": 3,
   "id": "544db1a4",
   "metadata": {},
   "outputs": [],
   "source": [
    "import csv\n",
    "\n",
    "\n",
    "header = ['Title','Price','Date','Time']\n",
    "data = [title,price,today,time]\n",
    "\n",
    "with open('Amazon Web scraping project.csv','w',newline='',encoding='UTF8') as f:\n",
    "    writer = csv.writer(f)\n",
    "    writer.writerow(header)\n",
    "    writer.writerow(data)"
   ]
  },
  {
   "cell_type": "code",
   "execution_count": 8,
   "id": "a69b2ce6",
   "metadata": {},
   "outputs": [
    {
     "data": {
      "text/html": [
       "<div>\n",
       "<style scoped>\n",
       "    .dataframe tbody tr th:only-of-type {\n",
       "        vertical-align: middle;\n",
       "    }\n",
       "\n",
       "    .dataframe tbody tr th {\n",
       "        vertical-align: top;\n",
       "    }\n",
       "\n",
       "    .dataframe thead th {\n",
       "        text-align: right;\n",
       "    }\n",
       "</style>\n",
       "<table border=\"1\" class=\"dataframe\">\n",
       "  <thead>\n",
       "    <tr style=\"text-align: right;\">\n",
       "      <th></th>\n",
       "      <th>Title</th>\n",
       "      <th>Price</th>\n",
       "      <th>Date</th>\n",
       "      <th>Time</th>\n",
       "    </tr>\n",
       "  </thead>\n",
       "  <tbody>\n",
       "    <tr>\n",
       "      <th>0</th>\n",
       "      <td>INTRODUCTION TO MACHINE LEARNING WITH PYTHON A...</td>\n",
       "      <td>1,300.00</td>\n",
       "      <td>2023-01-20</td>\n",
       "      <td>09:09:47</td>\n",
       "    </tr>\n",
       "    <tr>\n",
       "      <th>1</th>\n",
       "      <td>INTRODUCTION TO MACHINE LEARNING WITH PYTHON A...</td>\n",
       "      <td>1,300.00</td>\n",
       "      <td>2023-01-20</td>\n",
       "      <td>09:09:47</td>\n",
       "    </tr>\n",
       "  </tbody>\n",
       "</table>\n",
       "</div>"
      ],
      "text/plain": [
       "                                               Title     Price        Date  \\\n",
       "0  INTRODUCTION TO MACHINE LEARNING WITH PYTHON A...  1,300.00  2023-01-20   \n",
       "1  INTRODUCTION TO MACHINE LEARNING WITH PYTHON A...  1,300.00  2023-01-20   \n",
       "\n",
       "       Time  \n",
       "0  09:09:47  \n",
       "1  09:09:47  "
      ]
     },
     "execution_count": 8,
     "metadata": {},
     "output_type": "execute_result"
    }
   ],
   "source": [
    "import pandas as pd\n",
    "\n",
    "df = pd.read_csv('Amazon Web scraping project.csv')\n",
    "\n",
    "df.head()"
   ]
  },
  {
   "cell_type": "code",
   "execution_count": 5,
   "id": "fedabbc9",
   "metadata": {},
   "outputs": [],
   "source": [
    "# append data\n",
    "\n",
    "with open('Amazon Web scraping project.csv','a+',newline='',encoding='UTF8') as f:\n",
    "    writer = csv.writer(f)\n",
    "    writer.writerow(data)"
   ]
  },
  {
   "cell_type": "code",
   "execution_count": 6,
   "id": "d6ad3947",
   "metadata": {},
   "outputs": [],
   "source": [
    "# code to automate price checking\n",
    "def check_price():\n",
    "    URL = 'https://www.amazon.in/Introduction-Machine-Learning-Python-Scientists/dp/9352134575/ref=d_pd_sbs_sccl_1_6/260-1712950-1975220?pd_rd_w=I7dGk&content-id=amzn1.sym.bb6c0cc5-8184-43f1-ae65-b1c04d20cdc0&pf_rd_p=bb6c0cc5-8184-43f1-ae65-b1c04d20cdc0&pf_rd_r=160GA2HRKCF9BNKYGJYG&pd_rd_wg=miNbE&pd_rd_r=5c35c531-dcdc-4c51-aa0a-7d7a9be7b9b8&pd_rd_i=9352134575&psc=1'\n",
    "\n",
    "    headers = {\"User-Agent\": \"Mozilla/5.0 (Windows NT 10.0; Win64; x64) AppleWebKit/537.36 (KHTML, like Gecko) Chrome/109.0.0.0 Safari/537.36\", \"Accept-Encoding\":\"gzip, deflate\", \"Accept\":\"text/html,application/xhtml+xml,application/xml;q=0.9,*/*;q=0.8\", \"DNT\":\"1\",\"Connection\":\"close\", \"Upgrade-Insecure-Requests\":\"1\"}\n",
    "\n",
    "    page = requests.get(URL,headers=headers)\n",
    "\n",
    "    soup1 = BeautifulSoup(page.content,'html.parser')\n",
    "\n",
    "    soup2 = BeautifulSoup(soup1.prettify(),'html.parser')\n",
    "\n",
    "    title =  soup2.find(id='productTitle').get_text()\n",
    "\n",
    "    price = soup2.find(id='price').get_text()\n",
    "\n",
    "    title = title.strip()\n",
    "    price = price.strip()[1:]\n",
    "    today = datetime.date.today()\n",
    "    \n",
    "    header = ['Title','Price','Date']\n",
    "    data = [title,price,today]\n",
    "    \n",
    "    with open('Amazon Web scraping project.csv','a+',newline='',encoding='UTF8') as f:\n",
    "        writer = csv.writer(f)\n",
    "        writer.writerow(data)\n",
    "    "
   ]
  },
  {
   "cell_type": "code",
   "execution_count": 7,
   "id": "d16b6f40",
   "metadata": {},
   "outputs": [],
   "source": [
    "# while(True):\n",
    "#     check_price()\n",
    "#     time.sleep(5)"
   ]
  },
  {
   "cell_type": "code",
   "execution_count": null,
   "id": "0da5ee01",
   "metadata": {},
   "outputs": [],
   "source": []
  }
 ],
 "metadata": {
  "kernelspec": {
   "display_name": "Python 3",
   "language": "python",
   "name": "python3"
  },
  "language_info": {
   "codemirror_mode": {
    "name": "ipython",
    "version": 3
   },
   "file_extension": ".py",
   "mimetype": "text/x-python",
   "name": "python",
   "nbconvert_exporter": "python",
   "pygments_lexer": "ipython3",
   "version": "3.8.8"
  }
 },
 "nbformat": 4,
 "nbformat_minor": 5
}
